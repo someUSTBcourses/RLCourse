{
 "cells": [
  {
   "cell_type": "code",
   "execution_count": 2,
   "id": "ac52e124-4a85-49ad-a7a8-d538951d70d0",
   "metadata": {},
   "outputs": [],
   "source": [
    "import numpy as np     #只需要下载numpy库即可\n",
    "import random\n",
    "import GridWorld_v2\n",
    "import time\n",
    "from IPython.display import clear_output"
   ]
  },
  {
   "cell_type": "code",
   "execution_count": 3,
   "id": "02325b8c-eb8e-470f-bf36-9d7aa5d70452",
   "metadata": {},
   "outputs": [
    {
     "name": "stdout",
     "output_type": "stream",
     "text": [
      "⬜️⬜️⬜️⬜️⬜️\n",
      "⬜️🚫🚫⬜️⬜️\n",
      "⬜️⬜️🚫⬜️⬜️\n",
      "⬜️🚫✅🚫⬜️\n",
      "⬜️🚫⬜️⬜️⬜️\n"
     ]
    }
   ],
   "source": [
    "rows = 5      #记得行数和列数这里要同步改\n",
    "columns = 5\n",
    "\n",
    "# gridworld = GridWorld_v2.GridWorld_v2(rows=rows, columns=columns, forbiddenAreaNums=8, targetNums=2, seed = 52,forbiddenAreaScore=-10)\n",
    "# gridworld = GridWorld_v2.GridWorld_v2(desc = [\".#\",\".T\"])             #赵老师4-1的例子\n",
    "# gridworld = GridWorld_v2.GridWorld_v2(desc = [\"##.T\",\"...#\",\"....\"])  #随便弄的例子\n",
    "gridworld = GridWorld_v2.GridWorld_v2(forbiddenAreaScore=-10, score=1,desc = [\".....\",\".##..\",\"..#..\",\".#T#.\",\".#...\"]) \n",
    "#gridworld = GridWorld_v2(forbiddenAreaScore=-10, score=1,desc = [\"T.\"]) \n",
    "gridworld.show()\n",
    "\n",
    "\n",
    "value = np.zeros(rows*columns)       #初始化可以任意，也可以全0\n",
    "qtable = np.zeros((rows*columns,5))  #初始化，这里主要是初始化维数，里面的内容会被覆盖所以无所谓\n"
   ]
  },
  {
   "cell_type": "code",
   "execution_count": 4,
   "id": "cb5c9ed9-e3a8-42e1-9fa3-60815143ae25",
   "metadata": {},
   "outputs": [],
   "source": [
    "def QLearning_On_Policy(gridworld:GridWorld_v2.GridWorld_v2,gamma = 0.99,trajectorySteps=-1, learning_rate=0.001, final_epsilon=0.01, num_episodes=600)->GridWorld_v2.GridWorld_v2:\n",
    "    \"\"\"\n",
    "    Parameters:\n",
    "    gamma (float): 近视远视程度\n",
    "    trajectorySteps (int): 寻路的轨迹长度，如果是-1，则为寻到目的则停止，否则参数即为trajectory长度\n",
    "    learning_rate (float): 学习率，用于调节TD-target\n",
    "    epsilon (float): epsilon-greedy的核心参数，0~1的浮点数，其中1则表示当前state所有决策概率一样，0则表示决策没有任何的随机性\n",
    "    num_episodes (int): 表示模型迭代次数\n",
    "\n",
    "    Returns:\n",
    "    GridWorld_v2.GridWorld_v2: 把模型返回回去\n",
    "    \"\"\"\n",
    "    \n",
    "    state_value = np.zeros((rows * columns))\n",
    "    action_value = np.zeros((rows * columns, 5))\n",
    "    policy = np.eye(5)[np.random.randint(0,5,size=(rows*columns))] \n",
    "    epsilon = 0.5\n",
    "    for episode in range(num_episodes):\n",
    "        #清除输出，可以更好的展示策略\n",
    "        time.sleep(0.2)\n",
    "        clear_output(wait=True)\n",
    "        \n",
    "        print(\"episode\",f\"{episode}/{num_episodes}\")\n",
    "        if(epsilon > final_epsilon) :\n",
    "            epsilon -= 0.001\n",
    "        else:\n",
    "            epsilon = final_epsilon\n",
    "\n",
    "        # p1是目标方向的概率，p0是另外四个方向的概率\n",
    "        p1 = 1-epsilon * (4/5)\n",
    "        p0 = epsilon/5\n",
    "        d = {1:p1, 0:p0}\n",
    "        # policy_epsilon是policy取epsilon-greedy的概率决策\n",
    "        print(\"p1\",p1,\"p0\",p0)\n",
    "        policy_epsilon = np.vectorize(d.get)(policy)\n",
    "\n",
    "        #cnt数组用来检查每个state有多少次访问\n",
    "        cnt = [0 for i in range(25)]\n",
    "        \n",
    "        initState=10\n",
    "        initAction=random.randint(0,4)  \n",
    "\n",
    "        if trajectorySteps==-1:\n",
    "            stop_when_reach_target = True\n",
    "        Trajectory = gridworld.getTrajectoryScore(nowState=initState, \n",
    "                                                  action=initAction, \n",
    "                                                  policy=policy_epsilon, \n",
    "                                                  steps=trajectorySteps, \n",
    "                                                  stop_when_reach_target=True)\n",
    "        print(\"trajectorySteps\",len(Trajectory))\n",
    "        \n",
    "\n",
    "        \n",
    "        # 注意这里的返回值是大小为(trajectorySteps+1)的元组列表，因为把第一个动作也加入进去了\n",
    "        steps = len(Trajectory) - 1\n",
    "        for k in range(steps,-1,-1):\n",
    "            #State，Action，Reward，NextState，NextAction\n",
    "            tmpstate, tmpaction, tmpscore, nextState, nextAction  = Trajectory[k]\n",
    "            cnt[tmpstate] += 1\n",
    "            #Q.learning\n",
    "            TD_error = action_value[tmpstate][tmpaction] - (tmpscore + gamma * action_value[nextState].max())\n",
    "            action_value[tmpstate][tmpaction] -= learning_rate * TD_error\n",
    "\n",
    "        # policy improvement\n",
    "        policy = np.eye(5)[np.argmax(action_value,axis=1)]  #qtable的最优值作为更新策略，并用独热码来表示\n",
    "        policy_epsilon = np.vectorize(d.get)(policy)\n",
    "    \n",
    "        #输出每个state的访问次数\n",
    "        print(np.array(cnt).reshape(5,5)) \n",
    "\n",
    "        state_value = np.sum(policy_epsilon * action_value,axis=1)\n",
    "        mean_state_value = np.sum(policy_epsilon * action_value,axis=1).mean()\n",
    "        \n",
    "        gridworld.showPolicy(policy)\n",
    "        print(np.round(state_value,decimals=4).reshape(5,5))\n",
    "        print(\"mean_state_value\", mean_state_value)\n",
    "\n",
    "    return gridworld\n",
    "    "
   ]
  },
  {
   "cell_type": "code",
   "execution_count": 5,
   "id": "5defee9b-cf45-4d92-ba2b-a540cdcf4ab9",
   "metadata": {},
   "outputs": [
    {
     "name": "stdout",
     "output_type": "stream",
     "text": [
      "episode 599/600\n",
      "p1 0.992 p0 0.002\n",
      "trajectorySteps 15\n",
      "[[1 1 1 1 1]\n",
      " [1 0 0 0 1]\n",
      " [2 0 0 0 1]\n",
      " [0 0 1 0 1]\n",
      " [0 0 1 1 1]]\n",
      "➡️➡️➡️➡️⬇️\n",
      "⬆️⏫️⏩️➡️⬇️\n",
      "⬆️⬅️⏬➡️⬇️\n",
      "⬆️⏩️✅⏪⬇️\n",
      "⬆️⏩️⬆️⬅️⬅️\n",
      "[[-2.000e-04 -1.000e-03 -1.600e-03 -5.000e-04 -2.400e-03]\n",
      " [-8.000e-04 -5.000e-04 -1.200e-03 -2.400e-03 -1.100e-03]\n",
      " [-3.000e-04 -7.000e-04  4.820e-02 -1.000e-03 -1.000e-04]\n",
      " [-3.000e-04  2.160e-02  4.792e-01  6.350e-02  9.000e-04]\n",
      " [-0.000e+00  8.000e-04  4.724e-01  9.640e-02  1.440e-02]]\n",
      "mean_state_value 0.04733123966463758\n"
     ]
    },
    {
     "data": {
      "text/plain": [
       "<GridWorld_v2.GridWorld_v2 at 0x7f0b7beabd30>"
      ]
     },
     "execution_count": 5,
     "metadata": {},
     "output_type": "execute_result"
    }
   ],
   "source": [
    "QLearning_On_Policy(gridworld)"
   ]
  },
  {
   "cell_type": "code",
   "execution_count": null,
   "id": "a1a7b90a-5a20-47df-bc26-fff11a956772",
   "metadata": {},
   "outputs": [],
   "source": []
  },
  {
   "cell_type": "code",
   "execution_count": null,
   "id": "dfc4c5cb-279f-4ad1-9d60-5253ba9f5b71",
   "metadata": {},
   "outputs": [],
   "source": []
  }
 ],
 "metadata": {
  "kernelspec": {
   "display_name": "Python 3 (ipykernel)",
   "language": "python",
   "name": "python3"
  },
  "language_info": {
   "codemirror_mode": {
    "name": "ipython",
    "version": 3
   },
   "file_extension": ".py",
   "mimetype": "text/x-python",
   "name": "python",
   "nbconvert_exporter": "python",
   "pygments_lexer": "ipython3",
   "version": "3.8.18"
  }
 },
 "nbformat": 4,
 "nbformat_minor": 5
}
