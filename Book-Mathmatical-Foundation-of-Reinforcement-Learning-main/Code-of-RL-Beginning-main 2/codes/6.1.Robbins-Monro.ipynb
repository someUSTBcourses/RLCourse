{
 "cells": [
  {
   "cell_type": "markdown",
   "id": "ddc91ad8-99a6-4b5e-9da8-badd668beefc",
   "metadata": {},
   "source": [
    "## 引入：mean estimation\n",
    "\n",
    "该算法的目的是通过“采样”估计expectation\n",
    "\n",
    "$w_{k+1}^{} = \\frac{1}{k} \\sum_{i=1}^{k} x_{i} , \\ \\ \\ \\  k=1,2,...$\n",
    "\n",
    "$w_{k+1}$ ：下标是k+1，但这个是前k个元素的均值\n",
    "\n",
    "这个是定义式，已知一系列随机变量$X$的采样，求**mean estimation**，估计其expectation"
   ]
  },
  {
   "cell_type": "markdown",
   "id": "08508c02-57b0-4b27-80c3-d775f497c430",
   "metadata": {},
   "source": [
    "$RM:\\  g(w)=0$\n",
    "\n",
    "$SGD:\\  g'(w)=0$"
   ]
  },
  {
   "cell_type": "markdown",
   "id": "3c2089b9-2063-4cc2-ae15-74fdf4d820ca",
   "metadata": {},
   "source": [
    "#### 一、定义式：直接求平均"
   ]
  },
  {
   "cell_type": "code",
   "execution_count": 26,
   "id": "7a2f93a6-dc41-4037-ba1d-9883c33c995b",
   "metadata": {},
   "outputs": [
    {
     "data": {
      "image/png": "[encoded data removed]",
      "text/plain": [
       "<Figure size 640x480 with 1 Axes>"
      ]
     },
     "metadata": {},
     "output_type": "display_data"
    }
   ],
   "source": [
    "import numpy as np\n",
    "import matplotlib.pyplot as plt\n",
    "def f(x):\n",
    "    return x**3-5\n",
    "x = np.random.normal(10, 1, 10000) # 均值，方差，个数\n",
    "\n",
    "plt.hist(x, bins=100, range=(0, 20), edgecolor='black')\n",
    "plt.show()"
   ]
  },
  {
   "cell_type": "code",
   "execution_count": 27,
   "id": "0b1c379e-3582-4ca6-b171-beca4d84ed9d",
   "metadata": {},
   "outputs": [
    {
     "data": {
      "text/plain": [
       "1029.9442359810091"
      ]
     },
     "execution_count": 27,
     "metadata": {},
     "output_type": "execute_result"
    }
   ],
   "source": [
    "f(x).mean() #直接求平均"
   ]
  },
  {
   "cell_type": "markdown",
   "id": "4add074b-1e41-4a06-8538-487fd29c4d2a",
   "metadata": {},
   "source": [
    "#### 二、迭代式\n",
    "$w_{k+1}^{} = \\frac{1}{k} \\sum_{i=1}^{k} x_{i} ,\\ \\ \\ \\  k=1,2,...$\n",
    "\n",
    "$w_{k}^{} = \\frac{1}{k-1} \\sum_{i=1}^{k-1} x_{i} ,\\ \\ \\ \\  k=2,3,...$\n",
    "\n",
    "$w_{k+1}^{} = \\frac{1}{k} \\sum_{i=1}^{k} = \\frac{1}{k}(\\sum_{i=1}^{k-1} x_{i} +  x_{k})=\\frac{1}{k}((k-1)w_{k} + x_{k})=w_{k} - \\frac{1}{k}(w_{k}-x_{k})$"
   ]
  },
  {
   "cell_type": "markdown",
   "id": "a4b32f87-5289-4531-81d3-55d3489e6b7a",
   "metadata": {},
   "source": [
    "$k=0 \\ \\ w_{1}= 0$\n",
    "\n",
    "$k=1 \\ \\ w_{2}= \\frac{1}{1} * f(x1) =  0 - \\frac{1}{1}(0 - f(x_{1})) = w_{1} - \\frac{1}{1}(w_{1} - f(x_{1}))$\n",
    "\n",
    "$k=2 \\ \\ w_{3}= \\frac{1}{2} * [f(x1)+f(x2)] = w_{2} - \\frac{1}{2}(w_{2} - f(x_{2}))$"
   ]
  },
  {
   "cell_type": "code",
   "execution_count": 28,
   "id": "d0074303-4762-476c-920e-6c06ca9f1b59",
   "metadata": {},
   "outputs": [
    {
     "name": "stdout",
     "output_type": "stream",
     "text": [
      "1029.9330167302041\n"
     ]
    }
   ],
   "source": [
    "w = 0  #w1\n",
    "for k in range(1,10000):\n",
    "    w = w - 1/k*(w-f(x[k-1]))  #数组下标是从0开始的，所以记得-1\n",
    "    # print(w)\n",
    "print(w)"
   ]
  },
  {
   "cell_type": "code",
   "execution_count": 31,
   "id": "6d99ef79-b6c7-4f6a-8e5f-94dc35c54973",
   "metadata": {},
   "outputs": [
    {
     "name": "stdout",
     "output_type": "stream",
     "text": [
      "1027.877057020193\n"
     ]
    }
   ],
   "source": [
    "w = 0  #w1\n",
    "for k in range(1,10000):\n",
    "    w = w - 1/(k+20)*(w-f(x[k-1]))  #实际上k+什么常数最终都能收敛\n",
    "    # print(w)\n",
    "print(w)"
   ]
  },
  {
   "cell_type": "code",
   "execution_count": 32,
   "id": "94efb0a8-4060-4f8b-870f-a7a21d69bf3a",
   "metadata": {},
   "outputs": [
    {
     "name": "stdout",
     "output_type": "stream",
     "text": [
      "1037.8196768967655\n"
     ]
    }
   ],
   "source": [
    "w = 0  #w1\n",
    "for k in range(1,10000):\n",
    "    w = w - 1/1000*(w-f(x[k-1]))  #实际上k+什么常数最终都能收敛\n",
    "    # print(w)\n",
    "print(w)"
   ]
  },
  {
   "cell_type": "markdown",
   "id": "b01a3c5e-d52f-4b4a-86f8-8cf414a0bd6b",
   "metadata": {},
   "source": [
    "## Robbins-Monro\n",
    "\n",
    "下面是三个RM算法的例子\n",
    "\n",
    "$w_{k+1} = w_{k} - a_{k}\\widetilde{g} (w_{k},\\eta_{k}),\\ \\ \\ \\ k=1,2,3...$\n",
    "\n",
    "$f(x) = x - 10$"
   ]
  },
  {
   "cell_type": "code",
   "execution_count": 49,
   "id": "fe9c89be-664c-42a0-8b30-d589c1e1ee02",
   "metadata": {},
   "outputs": [
    {
     "name": "stdout",
     "output_type": "stream",
     "text": [
      "10.0\n",
      "[505.0, 257.5, 133.75, 71.875, 40.9375, 25.46875, 17.734375, 13.8671875, 11.93359375, 10.966796875, 10.4833984375, 10.24169921875, 10.120849609375, 10.0604248046875, 10.03021240234375, 10.015106201171875, 10.007553100585938, 10.003776550292969, 10.001888275146484, 10.000944137573242]\n"
     ]
    }
   ],
   "source": [
    "f = lambda x: x-10   #f(x) = x-10\n",
    "\n",
    "w = 1000\n",
    "a = 0.5\n",
    "tmp = []\n",
    "for i in range(65535):\n",
    "    # w = w - 1/(i+1) * f(w)\n",
    "    w = w - a * f(w)\n",
    "    tmp.append(w)\n",
    "print(w)\n",
    "print(tmp[:20])"
   ]
  },
  {
   "cell_type": "markdown",
   "id": "b0a0aaa1-4cc5-4e7d-8fe4-f8c86d1a5bfe",
   "metadata": {},
   "source": [
    "$f(x) = x^{3} - 5$"
   ]
  },
  {
   "cell_type": "code",
   "execution_count": 54,
   "id": "8344cf17-dc50-4e01-a024-aa5fc9644be4",
   "metadata": {},
   "outputs": [
    {
     "name": "stdout",
     "output_type": "stream",
     "text": [
      "1.709975946676698\n",
      "[-1.0, 2.0, 1.0, 2.0, 1.4, 1.776, 1.6900262034285713, 1.7116470131387955, 1.7100166782797486, 1.7099809474497056, 1.7099769595246843, 1.7099762191278756, 1.7099760352850588, 1.7099759797652512, 1.709975960414947, 1.7099759528829057, 1.7099759496804825, 1.7099759482166288, 1.7099759475056624, 1.709975947142076]\n"
     ]
    }
   ],
   "source": [
    "f = lambda x: x**3-5   #f(x) = x^3-5\n",
    "\n",
    "w = 2   # 注意，这里方程的梯度是二次方，无上界，所以对初始取值很苛刻，不然极其容易无法收敛\n",
    "tmp = []\n",
    "for i in range(65535):\n",
    "    w = w - 1/(i+1) * f(w)  \n",
    "    # w = w - 0.5 * f(w)  \n",
    "    tmp.append(w)\n",
    "print(w)\n",
    "print(tmp[:20])"
   ]
  },
  {
   "cell_type": "markdown",
   "id": "80bdd549-1c68-4df2-a125-6de03880ff5c",
   "metadata": {},
   "source": [
    "$f(x) = \\tan^{-1}(x-1)$"
   ]
  },
  {
   "cell_type": "code",
   "execution_count": 62,
   "id": "c031144a-5cdc-4458-bf5d-e1355c19ae4e",
   "metadata": {},
   "outputs": [
    {
     "name": "stdout",
     "output_type": "stream",
     "text": [
      "1.000000000000111\n",
      "[99.9984393043398, 99.99687860883881, 99.99531791349706, 99.99375721831454, 99.99219652329126, 99.99063582842722, 99.98907513372242, 99.98751443917689, 99.98595374479062, 99.98439305056361, 99.98283235649588, 99.98127166258742, 99.97971096883823, 99.97815027524834, 99.97658958181773, 99.97502888854642, 99.9734681954344, 99.9719075024817, 99.9703468096883, 99.96878611705421]\n"
     ]
    }
   ],
   "source": [
    "import math\n",
    "f = lambda x: math.atan(x-1)   #f(x) = atan(x-1)\n",
    "\n",
    "w = 100\n",
    "tmp = []\n",
    "for i in range(655300):\n",
    "    w = w - 1/1000 * f(w)  #\n",
    "    tmp.append(w)\n",
    "print(w)\n",
    "print(tmp[:20])"
   ]
  },
  {
   "cell_type": "code",
   "execution_count": null,
   "id": "ed9a9e8c-dac0-409c-b4a0-c0624ab26e8a",
   "metadata": {},
   "outputs": [],
   "source": []
  },
  {
   "cell_type": "markdown",
   "id": "c0546420-0aa4-478c-a211-97ea0e9794ed",
   "metadata": {},
   "source": [
    "### RM算法收敛的三大条件\n",
    "\n",
    "1、方程的**梯度**有上下界\n",
    "\n",
    "2、折扣因子a，减少的不能太快也不能太慢，收敛性介于调和级数和二次方的p级数之间\n",
    "\n",
    "3、噪声的期望得是0，并且方差是有界的（这个很显然，如果噪声期望不是0，那就一定有误差）"
   ]
  },
  {
   "cell_type": "markdown",
   "id": "81881332-8f49-47a1-92db-f9b8ebf763cb",
   "metadata": {},
   "source": [
    "### mean estimate算法是RM算法的证明：\n",
    "\n",
    "考虑方程：$g(w) = w - E[x]$\n",
    "\n",
    "显然若能解出 $g(w^{*}) = 0$ 那么相当于解得 $w^{*} = E[x]$\n",
    "\n",
    "$\\widetilde{g} (w,\\eta) = w - x= w-x+E[x]-E[x] = (w-E[x])+(E[x]-x) = g(w)+ \\eta $\n",
    "\n",
    "即：$g(w) = w-E[x]$  误差$\\eta = E[x]-x$\n",
    "\n",
    "显然误差的期望和方差是符合条件的， 然后梯度是常数，折扣因子是$1/k$ 三个条件都满足"
   ]
  },
  {
   "cell_type": "code",
   "execution_count": null,
   "id": "402a9616-b83f-4628-bb41-56400a29cd13",
   "metadata": {},
   "outputs": [],
   "source": []
  }
 ],
 "metadata": {
  "kernelspec": {
   "display_name": "Python 3 (ipykernel)",
   "language": "python",
   "name": "python3"
  },
  "language_info": {
   "codemirror_mode": {
    "name": "ipython",
    "version": 3
   },
   "file_extension": ".py",
   "mimetype": "text/x-python",
   "name": "python",
   "nbconvert_exporter": "python",
   "pygments_lexer": "ipython3",
   "version": "3.8.18"
  }
 },
 "nbformat": 4,
 "nbformat_minor": 5
}
