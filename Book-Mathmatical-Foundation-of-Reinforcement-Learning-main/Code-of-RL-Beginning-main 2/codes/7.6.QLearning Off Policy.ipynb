{
 "cells": [
  {
   "cell_type": "code",
   "execution_count": 3,
   "id": "ac52e124-4a85-49ad-a7a8-d538951d70d0",
   "metadata": {},
   "outputs": [],
   "source": [
    "import numpy as np     #只需要下载numpy库即可\n",
    "import random\n",
    "import GridWorld_v2\n",
    "import time\n",
    "from IPython.display import clear_output"
   ]
  },
  {
   "cell_type": "code",
   "execution_count": 4,
   "id": "02325b8c-eb8e-470f-bf36-9d7aa5d70452",
   "metadata": {},
   "outputs": [
    {
     "name": "stdout",
     "output_type": "stream",
     "text": [
      "⬜️⬜️⬜️⬜️⬜️\n",
      "⬜️🚫🚫⬜️⬜️\n",
      "⬜️⬜️🚫⬜️⬜️\n",
      "⬜️🚫✅🚫⬜️\n",
      "⬜️🚫⬜️⬜️⬜️\n"
     ]
    }
   ],
   "source": [
    "rows = 5      #记得行数和列数这里要同步改\n",
    "columns = 5\n",
    "\n",
    "# gridworld = GridWorld_v2.GridWorld_v2(rows=rows, columns=columns, forbiddenAreaNums=8, targetNums=2, seed = 52,forbiddenAreaScore=-10)\n",
    "# gridworld = GridWorld_v2.GridWorld_v2(desc = [\".#\",\".T\"])             #赵老师4-1的例子\n",
    "# gridworld = GridWorld_v2.GridWorld_v2(desc = [\"##.T\",\"...#\",\"....\"])  #随便弄的例子\n",
    "gridworld = GridWorld_v2.GridWorld_v2(forbiddenAreaScore=-10, score=1,desc = [\".....\",\".##..\",\"..#..\",\".#T#.\",\".#...\"]) \n",
    "#gridworld = GridWorld_v2(forbiddenAreaScore=-10, score=1,desc = [\"T.\"]) \n",
    "gridworld.show()\n",
    "\n",
    "\n",
    "value = np.zeros(rows*columns)       #初始化可以任意，也可以全0\n",
    "qtable = np.zeros((rows*columns,5))  #初始化，这里主要是初始化维数，里面的内容会被覆盖所以无所谓\n"
   ]
  },
  {
   "cell_type": "code",
   "execution_count": 5,
   "id": "cb5c9ed9-e3a8-42e1-9fa3-60815143ae25",
   "metadata": {},
   "outputs": [],
   "source": [
    "def QLearning_Off_Policy(gridworld:GridWorld_v2.GridWorld_v2,TrajectoryPoolSize = 50,gamma = 0.99,trajectorySteps=-1, learning_rate=0.001, num_episodes=600)->GridWorld_v2.GridWorld_v2:\n",
    "    \"\"\"\n",
    "    这是最基础的SARSA算法\n",
    "\n",
    "    Parameters:\n",
    "    trajectorySteps (int): 寻路的轨迹长度，如果是-1，则为寻到目的则停止，否则参数即为trajectory长度\n",
    "    learning_rate (float): 学习率，用于调节TD-target\n",
    "    epsilon (float): epsilon-greedy的核心参数，0~1的浮点数，其中1则表示当前state所有决策概率一样，0则表示决策没有任何的随机性\n",
    "    num_episodes (int): 表示模型迭代次数\n",
    "\n",
    "    Returns:\n",
    "    GridWorld_v2.GridWorld_v2: 把模型返回回去\n",
    "    \"\"\"\n",
    "    \n",
    "    state_value = np.zeros((rows * columns))\n",
    "    action_value = np.zeros((rows * columns, 5))\n",
    "    policy = np.eye(5)[np.random.randint(0,5,size=(rows*columns))] \n",
    "    # behavior_policy = 1000\n",
    "    behavior_policy = np.ones((rows * columns, 5)) * 0.2\n",
    "    epsilon = 0.5\n",
    "    \n",
    "    initState=10\n",
    "\n",
    "    TrajectoryPool = []\n",
    "    TrajectoryPoolSize = 50\n",
    "    for i in range(TrajectoryPoolSize):\n",
    "        if trajectorySteps==-1:\n",
    "            stop_when_reach_target = True\n",
    "            # 注意这里的返回值是大小为(trajectorySteps+1)的元组列表，因为把第一个动作也加入进去了\n",
    "            # 这里改成behavior_policy\n",
    "            Trajectory = gridworld.getTrajectoryScore(nowState=initState, \n",
    "                                                      action=random.randint(0,4) , \n",
    "                                                      policy=behavior_policy, \n",
    "                                                      steps=trajectorySteps, \n",
    "                                                      stop_when_reach_target=True)\n",
    "        TrajectoryPool.append(Trajectory)\n",
    "        \n",
    "    for episode in range(num_episodes):\n",
    "        if episode\n",
    "        #清除输出，可以更好的展示策略\n",
    "        time.sleep(0.2)\n",
    "        clear_output(wait=True)\n",
    "        print(\"episode\",f\"{episode}/{num_episodes}\")\n",
    "        \n",
    "        #cnt数组用来检查每个state有多少次访问\n",
    "        cnt = [0 for i in range(25)]\n",
    "        \n",
    "        for Trajectory in TrajectoryPool:\n",
    "            steps = len(Trajectory) - 1\n",
    "            for k in range(steps,-1,-1):\n",
    "                #State，Action，Reward，NextState，NextAction\n",
    "                tmpstate, tmpaction, tmpscore, nextState, nextAction  = Trajectory[k]\n",
    "                cnt[tmpstate] += 1\n",
    "                #Q.learning\n",
    "                TD_error = action_value[tmpstate][tmpaction] - (tmpscore + gamma * action_value[nextState].max())\n",
    "                action_value[tmpstate][tmpaction] -= learning_rate * TD_error\n",
    "\n",
    "        # policy improvement\n",
    "        policy = np.eye(5)[np.argmax(action_value,axis=1)]  #qtable的最优值作为更新策略，并用独热码来表示\n",
    "    \n",
    "        #输出每个state的访问次数\n",
    "        print(np.array(cnt).reshape(5,5))\n",
    "\n",
    "        state_value = np.sum(policy * action_value,axis=1)\n",
    "        print(state_value)\n",
    "        mean_state_value = np.sum(policy * action_value,axis=1).mean()\n",
    "        \n",
    "        gridworld.showPolicy(policy)\n",
    "        print(np.round(state_value,decimals=4).reshape(5,5))\n",
    "        print(\"mean_state_value\", mean_state_value)\n",
    "\n",
    "    return action_value\n",
    "    "
   ]
  },
  {
   "cell_type": "code",
   "execution_count": 7,
   "id": "5defee9b-cf45-4d92-ba2b-a540cdcf4ab9",
   "metadata": {},
   "outputs": [
    {
     "name": "stdout",
     "output_type": "stream",
     "text": [
      "episode 599/600\n",
      "[[173 155  96  78  44]\n",
      " [165 137 104  83  70]\n",
      " [222 130  77  75  68]\n",
      " [176  97  50  60  73]\n",
      " [154  90  56  56  66]]\n",
      "[0.28621912 0.3571427  0.45624884 0.64091655 0.87661114 0.23123789\n",
      " 0.27681206 0.69890607 0.899957   1.20883866 0.19100077 0.13740874\n",
      " 5.70390861 1.13309322 1.60495566 0.14503632 5.67318974 5.25681493\n",
      " 4.98692532 2.34908835 0.10913264 4.8536694  5.35316034 4.44879511\n",
      " 3.06475208]\n",
      "➡️➡️➡️⬇️⬇️\n",
      "⬆️⏫️⏩️⬇️⬇️\n",
      "⬆️⬅️⏬➡️⬇️\n",
      "⬆️⏩️✅⏪⬇️\n",
      "⬆️⏩️⬆️⬅️⬅️\n",
      "[[0.2862 0.3571 0.4562 0.6409 0.8766]\n",
      " [0.2312 0.2768 0.6989 0.9    1.2088]\n",
      " [0.191  0.1374 5.7039 1.1331 1.605 ]\n",
      " [0.145  5.6732 5.2568 4.9869 2.3491]\n",
      " [0.1091 4.8537 5.3532 4.4488 3.0648]]\n",
      "mean_state_value 2.0377528510777583\n"
     ]
    }
   ],
   "source": [
    "action_value = QLearning_Off_Policy(gridworld)"
   ]
  },
  {
   "cell_type": "code",
   "execution_count": 13,
   "id": "5de7428a-bd15-475e-a807-0878783afd60",
   "metadata": {},
   "outputs": [],
   "source": [
    "import pickle\n",
    "with open('true_action_value.pkl','wb') as file:\n",
    "    pickle.dump(action_value,file)"
   ]
  },
  {
   "cell_type": "code",
   "execution_count": null,
   "id": "a1a7b90a-5a20-47df-bc26-fff11a956772",
   "metadata": {},
   "outputs": [],
   "source": []
  }
 ],
 "metadata": {
  "kernelspec": {
   "display_name": "Python 3 (ipykernel)",
   "language": "python",
   "name": "python3"
  },
  "language_info": {
   "codemirror_mode": {
    "name": "ipython",
    "version": 3
   },
   "file_extension": ".py",
   "mimetype": "text/x-python",
   "name": "python",
   "nbconvert_exporter": "python",
   "pygments_lexer": "ipython3",
   "version": "3.8.18"
  }
 },
 "nbformat": 4,
 "nbformat_minor": 5
}
