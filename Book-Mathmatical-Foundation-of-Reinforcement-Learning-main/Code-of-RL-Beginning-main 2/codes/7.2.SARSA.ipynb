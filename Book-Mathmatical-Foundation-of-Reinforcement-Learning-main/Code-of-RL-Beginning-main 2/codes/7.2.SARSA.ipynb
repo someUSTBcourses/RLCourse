{
 "cells": [
  {
   "cell_type": "code",
   "execution_count": 2,
   "id": "8b4ab64a-c1b6-4247-bb4b-9c72ebf63778",
   "metadata": {},
   "outputs": [],
   "source": [
    "import numpy as np     #只需要下载numpy库即可\n",
    "import random\n",
    "import GridWorld_v2\n",
    "import time\n",
    "from IPython.display import clear_output"
   ]
  },
  {
   "cell_type": "code",
   "execution_count": 3,
   "id": "ad418bf1-1806-4c6d-830a-498b9c371405",
   "metadata": {},
   "outputs": [
    {
     "name": "stdout",
     "output_type": "stream",
     "text": [
      "⬜️⬜️⬜️⬜️⬜️\n",
      "⬜️🚫🚫⬜️⬜️\n",
      "⬜️⬜️🚫⬜️⬜️\n",
      "⬜️🚫✅🚫⬜️\n",
      "⬜️🚫⬜️⬜️⬜️\n"
     ]
    }
   ],
   "source": [
    "rows = 5      #记得行数和列数这里要同步改\n",
    "columns = 5\n",
    "gridworld = GridWorld_v2.GridWorld_v2(forbiddenAreaScore=-10, score=1,desc = [\".....\",\".##..\",\"..#..\",\".#T#.\",\".#...\"]) \n",
    "\n",
    "gridworld.show()\n",
    "value = np.zeros(rows*columns)       #初始化可以任意，也可以全0\n",
    "qtable = np.zeros((rows*columns,5))  #初始化，这里主要是初始化维数，里面的内容会被覆盖所以无所谓"
   ]
  },
  {
   "cell_type": "code",
   "execution_count": 4,
   "id": "25906946-b972-4f9c-a97a-7671c77aa710",
   "metadata": {},
   "outputs": [],
   "source": [
    "def SARSA(gridworld:GridWorld_v2.GridWorld_v2,gamma = 0.99,trajectorySteps=-1, learning_rate=0.001, final_epsilon=0.01, num_episodes=600)->GridWorld_v2.GridWorld_v2:\n",
    "    \"\"\"\n",
    "    这是最基础的SARSA算法\n",
    "\n",
    "    Parameters:\n",
    "    trajectorySteps (int): 寻路的轨迹长度，如果是-1，则为寻到目的则停止，否则参数即为trajectory长度\n",
    "    learning_rate (float): 学习率，用于调节TD-target\n",
    "    epsilon (float): epsilon-greedy的核心参数，0~1的浮点数，其中1则表示当前state所有决策概率一样，0则表示决策没有任何的随机性\n",
    "    num_episodes (int): 表示模型迭代次数\n",
    "\n",
    "    Returns:\n",
    "    GridWorld_v2.GridWorld_v2: 把模型返回回去\n",
    "    \"\"\"\n",
    "    \n",
    "    state_value = np.zeros((rows * columns))\n",
    "    action_value = np.zeros((rows * columns, 5))\n",
    "    policy = np.eye(5)[np.random.randint(0,5,size=(rows*columns))] \n",
    "    epsilon = 0.5\n",
    "    for episode in range(num_episodes):\n",
    "        #清除输出，可以更好的展示策略\n",
    "        time.sleep(0.2)\n",
    "        clear_output(wait=True)\n",
    "        \n",
    "        print(\"episode\",f\"{episode}/{num_episodes}\")\n",
    "        if(epsilon > final_epsilon) :\n",
    "            epsilon -= 0.001\n",
    "        else:\n",
    "            epsilon = final_epsilon\n",
    "\n",
    "        # p1是目标方向的概率，p0是另外四个方向的概率\n",
    "        p1 = 1-epsilon * (4/5)\n",
    "        p0 = epsilon/5\n",
    "        d = {1:p1, 0:p0}\n",
    "        # policy_epsilon是policy取epsilon-greedy的概率决策\n",
    "        print(\"p1\",p1,\"p0\",p0)\n",
    "        policy_epsilon = np.vectorize(d.get)(policy)\n",
    "\n",
    "        #cnt数组用来检查每个state有多少次访问\n",
    "        cnt = [0 for i in range(25)]\n",
    "        \n",
    "        initState=10\n",
    "        initAction=random.randint(0,4)  \n",
    "\n",
    "        if trajectorySteps==-1:\n",
    "            stop_when_reach_target = True\n",
    "        Trajectory = gridworld.getTrajectoryScore(nowState=initState, \n",
    "                                                  action=initAction, \n",
    "                                                  policy=policy_epsilon, \n",
    "                                                  steps=trajectorySteps, \n",
    "                                                  stop_when_reach_target=True)\n",
    "        Trajectory.append((17,4,1,17,4)) #让他最后自转一下\n",
    "        print(\"trajectorySteps\",len(Trajectory))\n",
    "        \n",
    "\n",
    "        \n",
    "        # 注意这里的返回值是大小为(trajectorySteps+1)的元组列表，因为把第一个动作也加入进去了\n",
    "        steps = len(Trajectory) - 1\n",
    "        for k in range(steps,-1,-1):\n",
    "            #State，Action，Reward，NextState，NextAction\n",
    "            tmpstate, tmpaction, tmpscore, nextState, nextAction  = Trajectory[k]\n",
    "            cnt[tmpstate] += 1\n",
    "            #SARSA\n",
    "            TD_error = action_value[tmpstate][tmpaction] - (tmpscore + gamma * action_value[nextState][nextAction])\n",
    "            action_value[tmpstate][tmpaction] -= learning_rate * TD_error\n",
    "\n",
    "        # policy improvement\n",
    "        policy = np.eye(5)[np.argmax(action_value,axis=1)]  #qtable的最优值作为更新策略，并用独热码来表示\n",
    "        policy_epsilon = np.vectorize(d.get)(policy)\n",
    "    \n",
    "        #输出每个state的访问次数\n",
    "        print(np.array(cnt).reshape(5,5)) \n",
    "\n",
    "        state_value = np.sum(policy_epsilon * action_value,axis=1)\n",
    "        mean_state_value = np.sum(policy_epsilon * action_value,axis=1).mean()\n",
    "        \n",
    "        gridworld.showPolicy(policy)\n",
    "        print(np.round(state_value,decimals=4).reshape(5,5))\n",
    "        print(\"mean_state_value\", mean_state_value)\n",
    "\n",
    "    return action_value\n",
    "    "
   ]
  },
  {
   "cell_type": "code",
   "execution_count": 5,
   "id": "56f4a5d3-6bf7-427c-81a8-638bd18a97b9",
   "metadata": {},
   "outputs": [
    {
     "name": "stdout",
     "output_type": "stream",
     "text": [
      "episode 599/600\n",
      "p1 0.992 p0 0.002\n",
      "trajectorySteps 21\n",
      "[[1 1 1 1 0]\n",
      " [2 0 0 1 1]\n",
      " [4 1 0 0 1]\n",
      " [1 0 2 0 1]\n",
      " [0 0 1 1 1]]\n",
      "➡️➡️➡️⬇️⬅️\n",
      "⬆️⏫️⏩️➡️⬇️\n",
      "⬆️⬅️⏬⬆️⬇️\n",
      "⬆️⏩️✅⏪⬇️\n",
      "🔄⏩️⬆️⬅️⬅️\n",
      "[[-0.0167 -0.0127 -0.0063 -0.0079 -0.0077]\n",
      " [-0.0149 -0.0038 -0.0024 -0.0064 -0.0055]\n",
      " [-0.021  -0.0118  0.0798 -0.0029 -0.0049]\n",
      " [-0.0157  0.1492  1.0605  0.1079 -0.0019]\n",
      " [-0.0151  0.0017  0.4452  0.0556  0.0029]]\n",
      "mean_state_value 0.06980779673851989\n"
     ]
    }
   ],
   "source": [
    "action_value = SARSA(gridworld)"
   ]
  },
  {
   "cell_type": "code",
   "execution_count": 8,
   "id": "4c1f5403-06f9-499a-b0c8-e628b4b78365",
   "metadata": {},
   "outputs": [
    {
     "data": {
      "text/plain": [
       "array([[-2.02077271e-01, -1.22370459e-02, -1.71757408e-02,\n",
       "        -1.62022898e-01, -1.64409289e-02],\n",
       "       [-1.12977502e-01, -8.02868424e-03, -8.53376108e-01,\n",
       "        -1.19451644e-02, -1.26167418e-02],\n",
       "       [-1.12555625e-01, -7.44885848e-03, -7.23526539e-01,\n",
       "        -7.45806051e-03, -7.52737576e-03],\n",
       "       [-2.14529881e-01, -8.43114551e-03, -8.15107635e-03,\n",
       "        -8.31210787e-03, -8.57562120e-03],\n",
       "       [-2.23432194e-01, -1.85236331e-01, -1.68452658e-02,\n",
       "        -8.27181139e-03, -8.48912604e-03],\n",
       "       [-1.04026457e-02, -9.81297295e-01, -1.13494998e-02,\n",
       "        -1.18376033e-01, -1.10849805e-02],\n",
       "       [-2.19110163e-03, -2.17824174e-01, -2.45460786e-03,\n",
       "        -1.88820522e-03, -2.27822240e-01],\n",
       "       [-1.84219174e-03, -1.65516793e-03, -6.96353358e-02,\n",
       "        -9.95673639e-02, -8.98601518e-02],\n",
       "       [-8.37374943e-03, -1.80940459e-03, -1.65657150e-03,\n",
       "        -6.86100120e-01, -3.47313211e-03],\n",
       "       [-1.76340713e-02, -2.05503970e-01, -3.24791579e-03,\n",
       "        -2.96837386e-03, -3.62405223e-03],\n",
       "       [-1.52956175e-02, -1.96228021e-02, -1.85497596e-02,\n",
       "        -3.12545128e-01, -1.88441518e-02],\n",
       "       [-5.27297252e-01, -4.10375287e-01, -4.76490931e-01,\n",
       "        -6.90040170e-03, -7.00323340e-03],\n",
       "       [-1.99900781e-02, -6.02114029e-07,  7.23271944e-02,\n",
       "         0.00000000e+00, -2.98852405e-02],\n",
       "       [-2.01134292e-03, -1.55317961e-03, -2.56140930e-01,\n",
       "        -2.85037520e-01, -1.77289788e-03],\n",
       "       [-4.15971192e-03, -1.27857004e-01, -3.16319431e-03,\n",
       "        -3.56383136e-03, -3.50279165e-03],\n",
       "       [-8.73532968e-03, -8.93817156e-01, -9.59042436e-03,\n",
       "        -1.02787699e-01, -9.50130690e-03],\n",
       "       [-9.41466461e-04,  1.18182114e-01, -4.99197537e-02,\n",
       "        -1.81941192e-05, -5.94896156e-02],\n",
       "       [-2.56018200e-01, -3.14292208e-01,  8.72196975e-04,\n",
       "        -2.06831291e-01,  4.76943431e-01],\n",
       "       [-1.48184230e-04, -5.88987679e-07, -5.13574654e-06,\n",
       "         6.89904551e-02, -4.97867509e-02],\n",
       "       [-1.11414044e-03, -3.68077547e-02, -6.01916391e-04,\n",
       "        -3.43368185e-01, -9.69327402e-04],\n",
       "       [-1.11477909e-02, -6.30242226e-01, -5.96438854e-02,\n",
       "        -6.80231256e-02, -1.15241116e-02],\n",
       "       [-1.09228683e-01,  2.24846654e-03, -5.11797441e-03,\n",
       "        -3.33440217e-04, -1.29499250e-01],\n",
       "       [ 3.69795733e-01, -4.94420214e-06, -1.00293030e-02,\n",
       "        -1.88772149e-01,  2.71748509e-04],\n",
       "       [-1.97533567e-01, -1.21835801e-04, -2.01135168e-02,\n",
       "         5.15647637e-02, -1.57810943e-04],\n",
       "       [-1.18839498e-03, -5.65031029e-02, -3.55265033e-02,\n",
       "         3.52769143e-03, -1.13659551e-03]])"
      ]
     },
     "execution_count": 8,
     "metadata": {},
     "output_type": "execute_result"
    }
   ],
   "source": [
    "action_value"
   ]
  },
  {
   "cell_type": "code",
   "execution_count": null,
   "id": "1de4082e-6733-4edf-bb43-6c4eac456a32",
   "metadata": {},
   "outputs": [],
   "source": [
    "import pickle"
   ]
  }
 ],
 "metadata": {
  "kernelspec": {
   "display_name": "Python 3 (ipykernel)",
   "language": "python",
   "name": "python3"
  },
  "language_info": {
   "codemirror_mode": {
    "name": "ipython",
    "version": 3
   },
   "file_extension": ".py",
   "mimetype": "text/x-python",
   "name": "python",
   "nbconvert_exporter": "python",
   "pygments_lexer": "ipython3",
   "version": "3.8.18"
  }
 },
 "nbformat": 4,
 "nbformat_minor": 5
}
