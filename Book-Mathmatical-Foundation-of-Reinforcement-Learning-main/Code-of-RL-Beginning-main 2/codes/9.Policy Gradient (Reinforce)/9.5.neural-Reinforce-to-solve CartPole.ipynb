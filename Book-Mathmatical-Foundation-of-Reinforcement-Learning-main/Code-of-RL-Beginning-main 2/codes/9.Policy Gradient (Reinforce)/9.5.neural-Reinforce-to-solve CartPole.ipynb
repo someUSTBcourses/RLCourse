{
 "cells": [
  {
   "cell_type": "code",
   "execution_count": 1,
   "id": "2d980dfd-813f-426d-91c3-1e71cf39aa29",
   "metadata": {},
   "outputs": [],
   "source": [
    "import gym\n",
    "import torch\n",
    "import torch.nn as nn\n",
    "import torch.nn.functional as F\n",
    "from scipy.special import softmax\n",
    "import numpy as np\n",
    "import os\n",
    "\n",
    "import matplotlib.pyplot as plt\n",
    "from tqdm import tqdm\n",
    "\n",
    "import draw\n",
    "import utils"
   ]
  },
  {
   "cell_type": "code",
   "execution_count": 2,
   "id": "8e1c97c1-600f-450f-91d8-a01e2d2bb775",
   "metadata": {},
   "outputs": [
    {
     "name": "stdout",
     "output_type": "stream",
     "text": [
      "Looking in indexes: https://pypi.tuna.tsinghua.edu.cn/simple\n",
      "Requirement already satisfied: gym==0.25.2 in /home/ziwen/anaconda3/envs/python38/lib/python3.8/site-packages (0.25.2)\n",
      "Requirement already satisfied: numpy>=1.18.0 in /home/ziwen/anaconda3/envs/python38/lib/python3.8/site-packages (from gym==0.25.2) (1.21.5)\n",
      "Requirement already satisfied: cloudpickle>=1.2.0 in /home/ziwen/anaconda3/envs/python38/lib/python3.8/site-packages (from gym==0.25.2) (2.2.1)\n",
      "Requirement already satisfied: gym-notices>=0.0.4 in /home/ziwen/anaconda3/envs/python38/lib/python3.8/site-packages (from gym==0.25.2) (0.0.8)\n",
      "Requirement already satisfied: importlib-metadata>=4.8.0 in /home/ziwen/anaconda3/envs/python38/lib/python3.8/site-packages (from gym==0.25.2) (7.0.1)\n",
      "Requirement already satisfied: zipp>=0.5 in /home/ziwen/anaconda3/envs/python38/lib/python3.8/site-packages (from importlib-metadata>=4.8.0->gym==0.25.2) (3.17.0)\n",
      "Looking in indexes: https://pypi.tuna.tsinghua.edu.cn/simple\n",
      "Requirement already satisfied: pygame==2.5.2 in /home/ziwen/anaconda3/envs/python38/lib/python3.8/site-packages (2.5.2)\n",
      "Looking in indexes: https://pypi.tuna.tsinghua.edu.cn/simple\n",
      "Requirement already satisfied: moviepy in /home/ziwen/anaconda3/envs/python38/lib/python3.8/site-packages (1.0.3)\n",
      "Requirement already satisfied: decorator<5.0,>=4.0.2 in /home/ziwen/anaconda3/envs/python38/lib/python3.8/site-packages (from moviepy) (4.4.2)\n",
      "Requirement already satisfied: tqdm<5.0,>=4.11.2 in /home/ziwen/anaconda3/envs/python38/lib/python3.8/site-packages (from moviepy) (4.65.0)\n",
      "Requirement already satisfied: requests<3.0,>=2.8.1 in /home/ziwen/anaconda3/envs/python38/lib/python3.8/site-packages (from moviepy) (2.25.1)\n",
      "Requirement already satisfied: proglog<=1.0.0 in /home/ziwen/anaconda3/envs/python38/lib/python3.8/site-packages (from moviepy) (0.1.10)\n",
      "Requirement already satisfied: numpy>=1.17.3 in /home/ziwen/anaconda3/envs/python38/lib/python3.8/site-packages (from moviepy) (1.21.5)\n",
      "Requirement already satisfied: imageio<3.0,>=2.5 in /home/ziwen/anaconda3/envs/python38/lib/python3.8/site-packages (from moviepy) (2.31.4)\n",
      "Requirement already satisfied: imageio-ffmpeg>=0.2.0 in /home/ziwen/anaconda3/envs/python38/lib/python3.8/site-packages (from moviepy) (0.5.1)\n",
      "Requirement already satisfied: pillow>=8.3.2 in /home/ziwen/anaconda3/envs/python38/lib/python3.8/site-packages (from imageio<3.0,>=2.5->moviepy) (10.0.1)\n",
      "Requirement already satisfied: setuptools in /home/ziwen/anaconda3/envs/python38/lib/python3.8/site-packages (from imageio-ffmpeg>=0.2.0->moviepy) (68.2.2)\n",
      "Requirement already satisfied: chardet<5,>=3.0.2 in /home/ziwen/anaconda3/envs/python38/lib/python3.8/site-packages (from requests<3.0,>=2.8.1->moviepy) (4.0.0)\n",
      "Requirement already satisfied: idna<3,>=2.5 in /home/ziwen/anaconda3/envs/python38/lib/python3.8/site-packages (from requests<3.0,>=2.8.1->moviepy) (2.10)\n",
      "Requirement already satisfied: urllib3<1.27,>=1.21.1 in /home/ziwen/anaconda3/envs/python38/lib/python3.8/site-packages (from requests<3.0,>=2.8.1->moviepy) (1.26.18)\n",
      "Requirement already satisfied: certifi>=2017.4.17 in /home/ziwen/anaconda3/envs/python38/lib/python3.8/site-packages (from requests<3.0,>=2.8.1->moviepy) (2024.2.2)\n"
     ]
    }
   ],
   "source": [
    "!pip install -i https://pypi.tuna.tsinghua.edu.cn/simple gym==0.25.2\n",
    "!pip install -i https://pypi.tuna.tsinghua.edu.cn/simple pygame==2.5.2\n",
    "!pip install -i https://pypi.tuna.tsinghua.edu.cn/simple moviepy"
   ]
  },
  {
   "cell_type": "code",
   "execution_count": 2,
   "id": "e098e422-6333-47de-ac33-f4c2dbee52c3",
   "metadata": {},
   "outputs": [],
   "source": [
    "from base64 import b64encode\n",
    "from IPython.display import display, HTML\n",
    "from moviepy.editor import ImageSequenceClip\n",
    "\n",
    "# 录制CartPole环境的视频\n",
    "def record_video(agent, env_name='CartPole-v0', video_dir='video'):\n",
    "    env = gym.make(env_name)\n",
    "    env = gym.wrappers.RecordVideo(env, video_dir, episode_trigger=lambda x: True)\n",
    "    state = env.reset()\n",
    "    done = False\n",
    "    cnt = 0\n",
    "    while not done:\n",
    "        action = agent.take_action(state)\n",
    "        state, _, done, _ = env.step(action)\n",
    "        cnt = cnt+1\n",
    "    print(cnt)\n",
    "    env.close()\n",
    "\n",
    "def display_video(file_path):\n",
    "    video = open(file_path, \"rb\").read()\n",
    "    encoded_video = b64encode(video).decode(\"ascii\")\n",
    "    display(HTML(data=f\"\"\"\n",
    "        <video width=\"640\" height=\"480\" controls>\n",
    "            <source src=\"data:video/mp4;base64,{encoded_video}\" type=\"video/mp4\" />\n",
    "        </video>\n",
    "    \"\"\"))"
   ]
  },
  {
   "cell_type": "code",
   "execution_count": 3,
   "id": "c9fa4566-a8de-4dbc-bb30-189c31a128d0",
   "metadata": {},
   "outputs": [],
   "source": [
    "class PolicyNet(torch.nn.Module):\n",
    "    def __init__(self, state_dim, hidden_dim, action_dim):\n",
    "        super(PolicyNet, self).__init__()\n",
    "        self.fc1 = torch.nn.Linear(state_dim, 128)\n",
    "        self.fc2 = torch.nn.Linear(128, action_dim)\n",
    "\n",
    "    def forward(self, x):\n",
    "        x = F.relu(self.fc1(x))\n",
    "        return F.softmax(self.fc2(x), dim=-1)"
   ]
  },
  {
   "cell_type": "code",
   "execution_count": 4,
   "id": "ffbbd90e-b0b2-47ba-a9e3-a0e3fdaa1118",
   "metadata": {},
   "outputs": [],
   "source": [
    "class REINFORCE:\n",
    "    def __init__(self, state_dim, hidden_dim, action_dim, learning_rate, gamma, device = torch.device(\"cpu\")):\n",
    "        self.action_dim = action_dim\n",
    "        self.state_dim =state_dim\n",
    "        self.policy_net = PolicyNet(state_dim, hidden_dim, action_dim).to(device)\n",
    "        self.device = device\n",
    "        \n",
    "        self.optimizer = torch.optim.Adam(self.policy_net.parameters(), lr=learning_rate)  # 使用Adam优化器\n",
    "        self.gamma = gamma  # 折扣因子\n",
    "        self.epsilon = 1\n",
    "\n",
    "    def save_model(self, path):\n",
    "        torch.save(self.policy_net.state_dict(), path)\n",
    "\n",
    "    def load_model(self, path):\n",
    "        self.policy_net.load_state_dict(torch.load(path, map_location=self.device))\n",
    "        \n",
    "    def save_model(self, path):\n",
    "        torch.save(self.policy_net, path)\n",
    "    def load_model(self, path):\n",
    "        self.policy_net = torch.load(path)\n",
    "        \n",
    "    def take_action(self, state): \n",
    "        if np.random.rand() < self.epsilon:\n",
    "            return np.random.choice(self.action_dim)\n",
    "        else:\n",
    "            input = torch.tensor(state, dtype=torch.float).to(self.device)\n",
    "            output = self.policy_net(input)\n",
    "            now_frame_probabilities  = output.detach().cpu().numpy()\n",
    "            action = np.random.choice(self.action_dim, p=now_frame_probabilities)\n",
    "            return action\n",
    "    \n",
    "    def update(self, transition_dict):\n",
    "        reward_list = transition_dict['rewards']\n",
    "        state_list = transition_dict['states']\n",
    "        action_list = transition_dict['actions']\n",
    "        G = 0\n",
    "        self.optimizer.zero_grad()\n",
    "        for i in reversed(range(len(reward_list))):  # 从最后一步算起\n",
    "            reward = reward_list[i]\n",
    "            state = state_list[i]\n",
    "            action = action_list[i]\n",
    "            G = self.gamma * G + reward\n",
    "            input = torch.tensor(state, dtype=torch.float).to(self.device)\n",
    "            log_prob = torch.log(self.policy_net(input)[action]) #对概率求log，这个是用来求梯度用的中间变量\n",
    "            loss = log_prob * G  #乘以G，G是当前这个时刻点到终止时的得分，如果是正的就鼓励它，如果是负的就惩罚它\n",
    "            loss = -loss  #梯度上升，得把符号逆置一下\n",
    "            loss.backward()\n",
    "        self.optimizer.step()\n",
    "        "
   ]
  },
  {
   "cell_type": "code",
   "execution_count": 5,
   "id": "034cd99f-d895-4914-9b50-88487b91231a",
   "metadata": {},
   "outputs": [],
   "source": [
    "def train():\n",
    "    env = gym.make('CartPole-v0')\n",
    "    agent = REINFORCE(state_dim = 4, \n",
    "              hidden_dim= 128, \n",
    "              action_dim = 2, \n",
    "              learning_rate = 0.001, \n",
    "              gamma = 0.98)\n",
    "\n",
    "    print(agent.policy_net)\n",
    "    return_list = []\n",
    "    agent.epsilon = 0\n",
    "    num_episodes = 300\n",
    "    pbar = tqdm(range(num_episodes))\n",
    "    for i in pbar:# 10000\n",
    "        episode_return = 0\n",
    "        transition_dict = {\n",
    "            'states': [],\n",
    "            'actions': [],\n",
    "            'next_states': [],\n",
    "            'rewards': [],\n",
    "            'dones': []\n",
    "        }\n",
    "        state = env.reset()\n",
    "        done = False\n",
    "        cnt = 0\n",
    "        while not done:\n",
    "            cnt = cnt + 1\n",
    "            # print(state)\n",
    "            action = agent.take_action(state) ########\n",
    "            # print(action)\n",
    "            next_state, reward, done, _ = env.step(action)\n",
    "            transition_dict['states'].append(state)\n",
    "            transition_dict['actions'].append(action)\n",
    "            transition_dict['next_states'].append(next_state)\n",
    "            transition_dict['rewards'].append(reward)\n",
    "            transition_dict['dones'].append(done)\n",
    "            state = next_state\n",
    "            episode_return += reward\n",
    "        return_list.append(episode_return)\n",
    "        agent.update(transition_dict)\n",
    "        if (i + 1) % 10 == 0:\n",
    "            pbar.set_postfix({\n",
    "                'episode':\n",
    "                '%d' % i,\n",
    "                'return':\n",
    "                '%.3f' % np.mean(return_list[-10:]),\n",
    "                'cnt': cnt\n",
    "            })\n",
    "        pbar.update(1)\n",
    "\n",
    "        if(i % 100==0):\n",
    "            agent.save_model('./models/'+f\"{i}.pth\")\n",
    "\n",
    "    print(sum(return_list)/len(return_list))\n",
    "    agent.save_model('./models/'+f\"{num_episodes}.pth\")\n",
    "    return agent"
   ]
  },
  {
   "cell_type": "code",
   "execution_count": 6,
   "id": "f80548e1-b51d-487a-aac7-efee3a7ffc68",
   "metadata": {},
   "outputs": [
    {
     "name": "stdout",
     "output_type": "stream",
     "text": [
      "PolicyNet(\n",
      "  (fc1): Linear(in_features=4, out_features=128, bias=True)\n",
      "  (fc2): Linear(in_features=128, out_features=2, bias=True)\n",
      ")\n"
     ]
    },
    {
     "name": "stderr",
     "output_type": "stream",
     "text": [
      "100%|████████████████████████████████████████████████████████████████████████████████████████████████████████| 300/300 [00:12<00:00, 24.10it/s, episode=299, return=155.600, cnt=168]"
     ]
    },
    {
     "name": "stdout",
     "output_type": "stream",
     "text": [
      "60.13\n"
     ]
    },
    {
     "name": "stderr",
     "output_type": "stream",
     "text": [
      "\n"
     ]
    }
   ],
   "source": [
    "training_agent = train()"
   ]
  },
  {
   "cell_type": "code",
   "execution_count": 7,
   "id": "e0618e01-0939-4ce0-becc-7646658751e5",
   "metadata": {},
   "outputs": [
    {
     "name": "stdout",
     "output_type": "stream",
     "text": [
      "144\n"
     ]
    },
    {
     "data": {
      "text/html": [
       "\n",
       "        <video width=\"640\" height=\"480\" controls>\n",
       "            <source src=\"data:video/mp4;base64,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\" type=\"video/mp4\" />\n",
       "        </video>\n",
       "    "
      ],
      "text/plain": [
       "<IPython.core.display.HTML object>"
      ]
     },
     "metadata": {},
     "output_type": "display_data"
    }
   ],
   "source": [
    "record_video(training_agent)\n",
    "display_video('./video/rl-video-episode-0.mp4')"
   ]
  },
  {
   "cell_type": "code",
   "execution_count": 8,
   "id": "97dd53a0-155c-4c65-a695-a36bc718a15b",
   "metadata": {},
   "outputs": [
    {
     "name": "stdout",
     "output_type": "stream",
     "text": [
      "195\n"
     ]
    },
    {
     "data": {
      "text/html": [
       "\n",
       "        <video width=\"640\" height=\"480\" controls>\n",
       "            <source src=\"data:video/mp4;base64,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\" type=\"video/mp4\" />\n",
       "        </video>\n",
       "    "
      ],
      "text/plain": [
       "<IPython.core.display.HTML object>"
      ]
     },
     "metadata": {},
     "output_type": "display_data"
    }
   ],
   "source": [
    "agent123 = REINFORCE(state_dim = 4, \n",
    "          hidden_dim= 128, \n",
    "          action_dim = 2, \n",
    "          learning_rate = 0.001, \n",
    "          gamma = 0.98)\n",
    "agent123.epsilon = 0\n",
    "agent123.load_model('./models/300.pth')\n",
    "record_video(agent123)\n",
    "display_video('./video/rl-video-episode-0.mp4')"
   ]
  },
  {
   "cell_type": "code",
   "execution_count": null,
   "id": "4bc8c022-2bba-412b-87fa-7531a0bea014",
   "metadata": {},
   "outputs": [],
   "source": []
  }
 ],
 "metadata": {
  "kernelspec": {
   "display_name": "Python 3 (ipykernel)",
   "language": "python",
   "name": "python3"
  },
  "language_info": {
   "codemirror_mode": {
    "name": "ipython",
    "version": 3
   },
   "file_extension": ".py",
   "mimetype": "text/x-python",
   "name": "python",
   "nbconvert_exporter": "python",
   "pygments_lexer": "ipython3",
   "version": "3.8.18"
  }
 },
 "nbformat": 4,
 "nbformat_minor": 5
}
